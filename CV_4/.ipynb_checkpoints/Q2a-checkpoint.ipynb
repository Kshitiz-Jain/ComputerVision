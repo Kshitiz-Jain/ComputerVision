{
 "cells": [
  {
   "cell_type": "code",
   "execution_count": 1,
   "metadata": {},
   "outputs": [
    {
     "name": "stdout",
     "output_type": "stream",
     "text": [
      "(50000, 3072)\n",
      "(50000,)\n",
      "(10000, 3072)\n",
      "(10000,)\n"
     ]
    }
   ],
   "source": [
    "import numpy as np\n",
    "import os\n",
    "import cv2\n",
    "import copy\n",
    "import torch\n",
    "import torchvision.transforms as transforms\n",
    "from torchvision import models\n",
    "\n",
    "def unpickle(file):\n",
    "    import pickle\n",
    "    with open(file, 'rb') as fo:\n",
    "        dict = pickle.load(fo, encoding='bytes')\n",
    "    return dict\n",
    "\n",
    "\n",
    "def data2():\n",
    "    traind=[]\n",
    "    trainl=[]\n",
    "    testd=[]\n",
    "    testl=[]\n",
    "    for i in range(5):\n",
    "        d=unpickle('./data/cifar-10-batches-py/data_batch_'+str(i+1))\n",
    "        data=d[b'data']\n",
    "        lbl=d[b'labels']\n",
    "        for i in range(len(data)):\n",
    "            img=np.reshape(data[i],(32,32,3))\n",
    "            traind.append(img)\n",
    "            trainl.append(lbl[i])\n",
    "#             img=cv2.cvtColor(np.reshape(data[i],(32,32,3)),cv2.COLOR_BGR2GRAY)\n",
    "#             img=np.ravel(img)\n",
    "#             traind.append(img)\n",
    "#             trainl.append(lbl[i])\n",
    "    d2=unpickle('./data/cifar-10-batches-py/test_batch')\n",
    "    data2=d2[b'data']\n",
    "    lbl2=d2[b'labels']\n",
    "    for i in range(len(data2)):\n",
    "        img=np.reshape(data2[i],(32,32,3))\n",
    "        traind.append(img)\n",
    "        trainl.append(lbl2[i])\n",
    "    testd=d2[b'data']\n",
    "    testl=d2[b'labels']\n",
    "#     for i in range(len(data2)):\n",
    "        \n",
    "#         img=cv2.cvtColor(np.reshape(data2[i],(32,32,3)),cv2.COLOR_BGR2GRAY)\n",
    "#         img=np.ravel(img)\n",
    "#         testd.append(img)\n",
    "#         testl.append(lbl2[i])\n",
    "    a=np.asarray(traind)\n",
    "    b=np.asarray(trainl)\n",
    "    c=np.asarray(testd)\n",
    "    d=np.asarray(testl)\n",
    "    return a,b,c,d\n",
    "\n",
    "trnx,trny,tstx,tsty=data2()\n",
    "print(np.shape(trnx))\n",
    "print(np.shape(trny))\n",
    "print(np.shape(tstx))\n",
    "print(np.shape(tsty))\n",
    "#[size,mean,standdev]\n",
    "params=[(224,224),[0.485, 0.465, 0.406],[0.229, 0.224, 0.225]]\n",
    "t=[transforms.ToPILImage(), transforms.Resize(size=params[0]), transforms.ToTensor(),transforms.Normalize(mean =params[1], std=params[2])]\n",
    "AlexNet=models.alexnet(pretrained=True)\n",
    "trans =transforms.Compose(t)\n"
   ]
  },
  {
   "cell_type": "code",
   "execution_count": null,
   "metadata": {},
   "outputs": [],
   "source": [
    "train_x=[]\n",
    "tot=0\n",
    "for i in range(200):\n",
    "    batch=[]\n",
    "    for i in range(250):\n",
    "        image=trans(trnx[i+tot])\n",
    "        batch.append(image)\n",
    "        tot=tot+1\n",
    "    tensors=torch.stack(batch)\n",
    "    final=AlexNet(tensors)\n",
    "    extract= final.detach().numpy()\n",
    "    train_x.extend(extract)"
   ]
  },
  {
   "cell_type": "code",
   "execution_count": 2,
   "metadata": {},
   "outputs": [
    {
     "ename": "IndentationError",
     "evalue": "unexpected indent (<ipython-input-2-0c5631731827>, line 20)",
     "output_type": "error",
     "traceback": [
      "\u001b[0;36m  File \u001b[0;32m\"<ipython-input-2-0c5631731827>\"\u001b[0;36m, line \u001b[0;32m20\u001b[0m\n\u001b[0;31m    for i in range(k, k+500):\u001b[0m\n\u001b[0m    ^\u001b[0m\n\u001b[0;31mIndentationError\u001b[0m\u001b[0;31m:\u001b[0m unexpected indent\n"
     ]
    }
   ],
   "source": [
    "test_x=[]\n",
    "tot=0\n",
    "for i in range(20):\n",
    "    batch=[]\n",
    "    for i in range(250):\n",
    "        image=trans(tstx[i+tot])\n",
    "        batch.append(image)\n",
    "        tot=tot+1\n",
    "    tensors=torch.stack(batch)\n",
    "    final=AlexNet(tensors)\n",
    "    extract= final.detach().numpy()\n",
    "    test_x.extend(extract)"
   ]
  },
  {
   "cell_type": "code",
   "execution_count": null,
   "metadata": {},
   "outputs": [],
   "source": [
    "from sklearn.naive_bayes import GaussianNB\n",
    "clf = GaussianNB()\n",
    "clf.fit(train_x, trny)\n",
    "y_pred=clf.predict(test_x)"
   ]
  }
 ],
 "metadata": {
  "kernelspec": {
   "display_name": "Python 3",
   "language": "python",
   "name": "python3"
  },
  "language_info": {
   "codemirror_mode": {
    "name": "ipython",
    "version": 3
   },
   "file_extension": ".py",
   "mimetype": "text/x-python",
   "name": "python",
   "nbconvert_exporter": "python",
   "pygments_lexer": "ipython3",
   "version": "3.7.1"
  }
 },
 "nbformat": 4,
 "nbformat_minor": 2
}
