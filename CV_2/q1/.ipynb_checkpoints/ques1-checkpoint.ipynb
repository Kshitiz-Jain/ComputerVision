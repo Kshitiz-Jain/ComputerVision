{
 "cells": [
  {
   "cell_type": "code",
   "execution_count": 1,
   "metadata": {
    "scrolled": false
   },
   "outputs": [
    {
     "ename": "AttributeError",
     "evalue": "'NoneType' object has no attribute 'shape'",
     "output_type": "error",
     "traceback": [
      "\u001b[0;31m---------------------------------------------------------------------------\u001b[0m",
      "\u001b[0;31mAttributeError\u001b[0m                            Traceback (most recent call last)",
      "\u001b[0;32m<ipython-input-1-f0cb5a534695>\u001b[0m in \u001b[0;36m<module>\u001b[0;34m\u001b[0m\n\u001b[1;32m     27\u001b[0m \u001b[0mimg\u001b[0m\u001b[0;34m=\u001b[0m\u001b[0mcv2\u001b[0m\u001b[0;34m.\u001b[0m\u001b[0mimread\u001b[0m\u001b[0;34m(\u001b[0m\u001b[0;34m'./coins.jpeg'\u001b[0m\u001b[0;34m,\u001b[0m\u001b[0;36m0\u001b[0m\u001b[0;34m)\u001b[0m\u001b[0;34m\u001b[0m\u001b[0;34m\u001b[0m\u001b[0m\n\u001b[1;32m     28\u001b[0m \u001b[0mcv2\u001b[0m\u001b[0;34m.\u001b[0m\u001b[0mimwrite\u001b[0m\u001b[0;34m(\u001b[0m\u001b[0;34m'Q1Grayscale.jpg'\u001b[0m\u001b[0;34m,\u001b[0m\u001b[0mimg\u001b[0m\u001b[0;34m)\u001b[0m\u001b[0;34m\u001b[0m\u001b[0;34m\u001b[0m\u001b[0m\n\u001b[0;32m---> 29\u001b[0;31m \u001b[0mimg\u001b[0m\u001b[0;34m=\u001b[0m\u001b[0mdownsample\u001b[0m\u001b[0;34m(\u001b[0m\u001b[0mimg\u001b[0m\u001b[0;34m,\u001b[0m\u001b[0;36m0\u001b[0m\u001b[0;34m)\u001b[0m\u001b[0;34m\u001b[0m\u001b[0;34m\u001b[0m\u001b[0m\n\u001b[0m\u001b[1;32m     30\u001b[0m \u001b[0mimg\u001b[0m\u001b[0;34m=\u001b[0m\u001b[0mdownsample\u001b[0m\u001b[0;34m(\u001b[0m\u001b[0mimg\u001b[0m\u001b[0;34m,\u001b[0m\u001b[0;36m0\u001b[0m\u001b[0;34m)\u001b[0m\u001b[0;34m\u001b[0m\u001b[0;34m\u001b[0m\u001b[0m\n\u001b[1;32m     31\u001b[0m \u001b[0mcv2\u001b[0m\u001b[0;34m.\u001b[0m\u001b[0mimwrite\u001b[0m\u001b[0;34m(\u001b[0m\u001b[0;34m'Q1Downsampled.jpg'\u001b[0m\u001b[0;34m,\u001b[0m\u001b[0mimg\u001b[0m\u001b[0;34m)\u001b[0m\u001b[0;34m\u001b[0m\u001b[0;34m\u001b[0m\u001b[0m\n",
      "\u001b[0;32m<ipython-input-1-f0cb5a534695>\u001b[0m in \u001b[0;36mdownsample\u001b[0;34m(img, ker)\u001b[0m\n\u001b[1;32m     14\u001b[0m \u001b[0;34m\u001b[0m\u001b[0m\n\u001b[1;32m     15\u001b[0m \u001b[0;32mdef\u001b[0m \u001b[0mdownsample\u001b[0m\u001b[0;34m(\u001b[0m\u001b[0mimg\u001b[0m\u001b[0;34m,\u001b[0m\u001b[0mker\u001b[0m\u001b[0;34m)\u001b[0m\u001b[0;34m:\u001b[0m\u001b[0;34m\u001b[0m\u001b[0;34m\u001b[0m\u001b[0m\n\u001b[0;32m---> 16\u001b[0;31m     \u001b[0mrow\u001b[0m\u001b[0;34m,\u001b[0m\u001b[0mcol\u001b[0m\u001b[0;34m=\u001b[0m\u001b[0mimg\u001b[0m\u001b[0;34m.\u001b[0m\u001b[0mshape\u001b[0m\u001b[0;34m\u001b[0m\u001b[0;34m\u001b[0m\u001b[0m\n\u001b[0m\u001b[1;32m     17\u001b[0m     \u001b[0mprint\u001b[0m \u001b[0;34m(\u001b[0m\u001b[0;34m\"Downsample input\"\u001b[0m\u001b[0;34m,\u001b[0m\u001b[0mimg\u001b[0m\u001b[0;34m.\u001b[0m\u001b[0mshape\u001b[0m\u001b[0;34m)\u001b[0m\u001b[0;34m\u001b[0m\u001b[0;34m\u001b[0m\u001b[0m\n\u001b[1;32m     18\u001b[0m     \u001b[0mpad\u001b[0m\u001b[0;34m=\u001b[0m\u001b[0mmath\u001b[0m\u001b[0;34m.\u001b[0m\u001b[0mfloor\u001b[0m\u001b[0;34m(\u001b[0m\u001b[0mker\u001b[0m\u001b[0;34m/\u001b[0m\u001b[0;36m2\u001b[0m\u001b[0;34m)\u001b[0m\u001b[0;34m\u001b[0m\u001b[0;34m\u001b[0m\u001b[0m\n",
      "\u001b[0;31mAttributeError\u001b[0m: 'NoneType' object has no attribute 'shape'"
     ]
    }
   ],
   "source": [
    "import numpy as np\n",
    "import cv2\n",
    "import math\n",
    "\n",
    "\n",
    "\n",
    "def avg4(img,r,c):\n",
    "    ans=0\n",
    "    for i in range(2):\n",
    "        for j in range(2):\n",
    "            ans=ans+img[r+i][c+j]\n",
    "    ans=ans/4.0\n",
    "    return ans\n",
    "\n",
    "def downsample(img,ker):\n",
    "    row,col=img.shape\n",
    "    print (\"Downsample input\",img.shape)\n",
    "    pad=math.floor(ker/2)\n",
    "#    print (int(row/2)+pad,int(col/2)+pad)\n",
    "    newimg = np.zeros( (int(row/2)+pad,int(col/2)+pad))\n",
    "    print (\"Downsample fxn\",newimg.shape)\n",
    "    for i in range(int(row/2)-pad):\n",
    "        for j in range(int(col/2)-pad):\n",
    "            newimg[i+pad][j+pad]=avg4(img,i*2+pad,j*2+pad)\n",
    "    return newimg\n",
    "\n",
    "img=cv2.imread('./Q1.jpeg',0)\n",
    "cv2.imwrite('Q1Grayscale.jpg',img)\n",
    "img=downsample(img,0)\n",
    "img=downsample(img,0)\n",
    "cv2.imwrite('Q1Downsampled.jpg',img)\n",
    "blur=cv2.GaussianBlur(img,(3,3),1.5)\n",
    "blur=blur.astype(np.uint8)\n",
    "cv2.imwrite('Q1Blurred.jpg',blur)\n",
    "edges=cv2.Canny(blur,60,170)\n",
    "cv2.imwrite('Q1Canny.jpg',edges)\n",
    "row,col=edges.shape\n",
    "# for i in range(row):\n",
    "# \ta=[]\n",
    "# \tfor j in range(col):\n",
    "# \t\ta.append(edges[i][j])\n",
    "# \tprint(a)\n",
    "\n",
    "\n",
    "rad=min(row,col)\n",
    "dic={}\n",
    "hough=np.zeros((rad,row,col))\n",
    "temp=[]\n",
    "temp2=[]\n",
    "\n",
    "for x in range(row):\n",
    "    for y in range(col):\n",
    "        if(edges[x][y]>0):\n",
    "            for r in range(10,int(rad)):\n",
    "                for t in range(360):\n",
    "                    a=y+(r*math.cos(math.pi*t/180))\n",
    "                    b=x+(r*math.sin(math.pi*t/180))\n",
    "                    temp.append(int(a))\n",
    "                    temp2.append(int(b))\n",
    "                    key=str(int(a))+\" \"+str(int(b))+\" \"+str(int(r))\n",
    "                    if(key not in dic):\n",
    "                        dic.update({key:1})\n",
    "                    else:\n",
    "                        dic.update({key:dic[key]+1})\n",
    "#                     if(a>=0 and a<row-1 and b>=0 and b<col-1):\n",
    "#                         hough[r][int(a)][int(b)]=hough[r][int(a)][int(b)]+1\n",
    "#                     else:\n",
    "#                         continue\n",
    "        else:\n",
    "            continue\n",
    "    print(\"hough\",x)\n"
   ]
  },
  {
   "cell_type": "code",
   "execution_count": 3,
   "metadata": {},
   "outputs": [
    {
     "name": "stdout",
     "output_type": "stream",
     "text": [
      "96 31 30\n",
      "32 29 28\n",
      "34 30 30\n",
      "158 30 29\n",
      "157 31 30\n",
      "221 34 30\n",
      "31 95 28\n",
      "93 95 27\n",
      "159 97 27\n",
      "158 97 27\n",
      "223 99 27\n"
     ]
    },
    {
     "data": {
      "text/plain": [
       "True"
      ]
     },
     "execution_count": 3,
     "metadata": {},
     "output_type": "execute_result"
    }
   ],
   "source": [
    "# temp.sort(reverse = True)\n",
    "# temp2.sort(reverse = True)\n",
    "# print(temp[len(temp)-1])\n",
    "# print(temp2[len(temp2)-1])\n",
    "for key in dic:\n",
    "\n",
    "    a=key.split(\" \")\n",
    "    if(dic[key]<200):\n",
    "        continue\n",
    "    else:\n",
    "        print (key)\n",
    "        cv2.circle(img,(int(a[0]),int(a[1])),int(a[2]),(255,255,255))\n",
    "        \n",
    "cv2.imwrite('Q1Final.jpg',img)"
   ]
  },
  {
   "cell_type": "code",
   "execution_count": null,
   "metadata": {},
   "outputs": [],
   "source": []
  }
 ],
 "metadata": {
  "kernelspec": {
   "display_name": "Python 3",
   "language": "python",
   "name": "python3"
  },
  "language_info": {
   "codemirror_mode": {
    "name": "ipython",
    "version": 3
   },
   "file_extension": ".py",
   "mimetype": "text/x-python",
   "name": "python",
   "nbconvert_exporter": "python",
   "pygments_lexer": "ipython3",
   "version": "3.7.1"
  }
 },
 "nbformat": 4,
 "nbformat_minor": 2
}
